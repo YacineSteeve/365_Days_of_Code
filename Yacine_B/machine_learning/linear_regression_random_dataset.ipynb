{
 "cells": [
  {
   "cell_type": "code",
   "execution_count": 1112,
   "id": "07ad56da",
   "metadata": {},
   "outputs": [],
   "source": [
    "import numpy as np\n",
    "import matplotlib.pyplot as plt\n",
    "from sklearn.datasets import make_regression as mkreg"
   ]
  },
  {
   "cell_type": "code",
   "execution_count": 1113,
   "id": "ae11f610",
   "metadata": {},
   "outputs": [],
   "source": [
    "x, y = mkreg(n_samples=250, n_features=1, noise=10)"
   ]
  },
  {
   "cell_type": "code",
   "execution_count": 1114,
   "id": "26759923",
   "metadata": {},
   "outputs": [
    {
     "data": {
      "text/plain": [
       "(250, 1)"
      ]
     },
     "execution_count": 1114,
     "metadata": {},
     "output_type": "execute_result"
    }
   ],
   "source": [
    "y = y + abs(y/2)\n",
    "y = y.reshape(y.shape[0], 1)\n",
    "y.shape"
   ]
  },
  {
   "cell_type": "code",
   "execution_count": 1115,
   "id": "fa9a72b2",
   "metadata": {},
   "outputs": [
    {
     "data": {
      "text/plain": [
       "(250, 1)"
      ]
     },
     "execution_count": 1115,
     "metadata": {},
     "output_type": "execute_result"
    }
   ],
   "source": [
    "x.shape"
   ]
  },
  {
   "cell_type": "code",
   "execution_count": 1116,
   "id": "0aae4215",
   "metadata": {},
   "outputs": [
    {
     "data": {
      "text/plain": [
       "<matplotlib.collections.PathCollection at 0x7feea0d87e20>"
      ]
     },
     "execution_count": 1116,
     "metadata": {},
     "output_type": "execute_result"
    },
    {
     "data": {
      "image/png": "[encoded data removed]",
      "text/plain": [
       "<Figure size 432x288 with 1 Axes>"
      ]
     },
     "metadata": {
      "needs_background": "light"
     },
     "output_type": "display_data"
    }
   ],
   "source": [
    "plt.scatter(x, y)"
   ]
  },
  {
   "cell_type": "code",
   "execution_count": 1117,
   "id": "1f4fce65",
   "metadata": {},
   "outputs": [
    {
     "data": {
      "text/plain": [
       "array([[ 2.66340262e-01, -5.16081642e-01,  1.00000000e+00],\n",
       "       [ 3.30916847e+00,  1.81911200e+00,  1.00000000e+00],\n",
       "       [ 7.61633613e-01, -8.72716227e-01,  1.00000000e+00],\n",
       "       [ 6.34258623e-02, -2.51844917e-01,  1.00000000e+00],\n",
       "       [ 4.38027381e+00, -2.09291037e+00,  1.00000000e+00],\n",
       "       [ 3.28745144e-03, -5.73363012e-02,  1.00000000e+00],\n",
       "       [ 4.56135453e-01,  6.75378008e-01,  1.00000000e+00],\n",
       "       [ 1.72404930e+00,  1.31303058e+00,  1.00000000e+00],\n",
       "       [ 1.62376295e-01,  4.02959422e-01,  1.00000000e+00],\n",
       "       [ 4.90960256e-02, -2.21576230e-01,  1.00000000e+00],\n",
       "       [ 3.26493257e+00,  1.80691244e+00,  1.00000000e+00],\n",
       "       [ 7.55997777e-02, -2.74954137e-01,  1.00000000e+00],\n",
       "       [ 1.80408163e+00, -1.34316106e+00,  1.00000000e+00],\n",
       "       [ 2.27865911e-01, -4.77353026e-01,  1.00000000e+00],\n",
       "       [ 1.42646461e+00, -1.19434694e+00,  1.00000000e+00],\n",
       "       [ 2.50267702e+00,  1.58198515e+00,  1.00000000e+00],\n",
       "       [ 1.32900614e+00, -1.15282529e+00,  1.00000000e+00],\n",
       "       [ 1.12636344e+00,  1.06130271e+00,  1.00000000e+00],\n",
       "       [ 6.10804303e-01,  7.81539700e-01,  1.00000000e+00],\n",
       "       [ 7.88228235e-03,  8.87822187e-02,  1.00000000e+00],\n",
       "       [ 2.04811193e+00, -1.43112261e+00,  1.00000000e+00],\n",
       "       [ 4.23686337e-01, -6.50911927e-01,  1.00000000e+00],\n",
       "       [ 9.46138718e-01,  9.72696622e-01,  1.00000000e+00],\n",
       "       [ 5.70910767e-04, -2.38937391e-02,  1.00000000e+00],\n",
       "       [ 5.89735253e-01,  7.67942220e-01,  1.00000000e+00],\n",
       "       [ 2.79381963e-01,  5.28565949e-01,  1.00000000e+00],\n",
       "       [ 2.91069029e+00,  1.70607453e+00,  1.00000000e+00],\n",
       "       [ 2.08227445e-01, -4.56319455e-01,  1.00000000e+00],\n",
       "       [ 1.00273509e+00,  1.00136661e+00,  1.00000000e+00],\n",
       "       [ 3.05988545e-01,  5.53162314e-01,  1.00000000e+00],\n",
       "       [ 6.65778309e-01, -8.15952394e-01,  1.00000000e+00],\n",
       "       [ 2.05907257e+00,  1.43494689e+00,  1.00000000e+00],\n",
       "       [ 3.07428827e-01,  5.54462647e-01,  1.00000000e+00],\n",
       "       [ 1.27346513e+00,  1.12847912e+00,  1.00000000e+00],\n",
       "       [ 8.72294801e-01, -9.33967238e-01,  1.00000000e+00],\n",
       "       [ 8.48286419e-02,  2.91253570e-01,  1.00000000e+00],\n",
       "       [ 2.13188792e+00, -1.46009860e+00,  1.00000000e+00],\n",
       "       [ 4.32418663e-02,  2.07946787e-01,  1.00000000e+00],\n",
       "       [ 8.49322869e-01,  9.21587147e-01,  1.00000000e+00],\n",
       "       [ 1.08952231e+00, -1.04380185e+00,  1.00000000e+00],\n",
       "       [ 9.64928742e-02, -3.10633022e-01,  1.00000000e+00],\n",
       "       [ 1.10756094e-01,  3.32800381e-01,  1.00000000e+00],\n",
       "       [ 5.42645581e-04,  2.32947544e-02,  1.00000000e+00],\n",
       "       [ 6.07050373e-02, -2.46383923e-01,  1.00000000e+00],\n",
       "       [ 4.79658058e-01, -6.92573504e-01,  1.00000000e+00],\n",
       "       [ 1.21141199e+00,  1.10064163e+00,  1.00000000e+00],\n",
       "       [ 5.86478221e+00,  2.42173124e+00,  1.00000000e+00],\n",
       "       [ 1.67448917e+00, -1.29402055e+00,  1.00000000e+00],\n",
       "       [ 3.53846905e-01,  5.94850322e-01,  1.00000000e+00],\n",
       "       [ 9.60621808e-01, -9.80113161e-01,  1.00000000e+00],\n",
       "       [ 3.09042521e+00, -1.75796052e+00,  1.00000000e+00],\n",
       "       [ 2.00483982e-03, -4.47754377e-02,  1.00000000e+00],\n",
       "       [ 9.21227164e-01, -9.59805795e-01,  1.00000000e+00],\n",
       "       [ 8.96729338e-01, -9.46957939e-01,  1.00000000e+00],\n",
       "       [ 3.59915758e-01, -5.99929794e-01,  1.00000000e+00],\n",
       "       [ 1.24078472e-02, -1.11390517e-01,  1.00000000e+00],\n",
       "       [ 4.80672787e+00, -2.19242511e+00,  1.00000000e+00],\n",
       "       [ 1.92781325e-01,  4.39068702e-01,  1.00000000e+00],\n",
       "       [ 4.55156383e-01, -6.74652787e-01,  1.00000000e+00],\n",
       "       [ 2.38606305e+00, -1.54468866e+00,  1.00000000e+00],\n",
       "       [ 4.38749442e-01, -6.62381644e-01,  1.00000000e+00],\n",
       "       [ 2.23850104e-02, -1.49616210e-01,  1.00000000e+00],\n",
       "       [ 2.46108633e+00,  1.56878499e+00,  1.00000000e+00],\n",
       "       [ 1.22783731e-01,  3.50405096e-01,  1.00000000e+00],\n",
       "       [ 1.25122657e+00,  1.11858239e+00,  1.00000000e+00],\n",
       "       [ 7.26571119e-03,  8.52391412e-02,  1.00000000e+00],\n",
       "       [ 1.26559304e+00,  1.12498579e+00,  1.00000000e+00],\n",
       "       [ 5.59730342e-01, -7.48151283e-01,  1.00000000e+00],\n",
       "       [ 1.68600110e+00,  1.29846105e+00,  1.00000000e+00],\n",
       "       [ 4.99560538e-02, -2.23508509e-01,  1.00000000e+00],\n",
       "       [ 1.76228542e-02,  1.32751099e-01,  1.00000000e+00],\n",
       "       [ 4.93205570e+00, -2.22082320e+00,  1.00000000e+00],\n",
       "       [ 1.83205230e+00,  1.35353326e+00,  1.00000000e+00],\n",
       "       [ 1.03054278e-01,  3.21020681e-01,  1.00000000e+00],\n",
       "       [ 3.73004571e-01,  6.10741002e-01,  1.00000000e+00],\n",
       "       [ 1.98393190e-01,  4.45413505e-01,  1.00000000e+00],\n",
       "       [ 1.40056930e+00,  1.18345651e+00,  1.00000000e+00],\n",
       "       [ 3.16978407e-02,  1.78038874e-01,  1.00000000e+00],\n",
       "       [ 1.62809758e-02, -1.27596927e-01,  1.00000000e+00],\n",
       "       [ 1.12009592e-03, -3.34678341e-02,  1.00000000e+00],\n",
       "       [ 3.01188800e+00,  1.73547918e+00,  1.00000000e+00],\n",
       "       [ 5.72859874e-03, -7.56875071e-02,  1.00000000e+00],\n",
       "       [ 7.62657450e-01,  8.73302611e-01,  1.00000000e+00],\n",
       "       [ 6.57503995e-01,  8.10866201e-01,  1.00000000e+00],\n",
       "       [ 7.28447996e-04,  2.69897758e-02,  1.00000000e+00],\n",
       "       [ 9.88493841e-01,  9.94230276e-01,  1.00000000e+00],\n",
       "       [ 7.06719450e-01,  8.40666075e-01,  1.00000000e+00],\n",
       "       [ 1.26853546e-01,  3.56165054e-01,  1.00000000e+00],\n",
       "       [ 1.52198078e+00,  1.23368585e+00,  1.00000000e+00],\n",
       "       [ 8.99281531e-03, -9.48304556e-02,  1.00000000e+00],\n",
       "       [ 5.20901882e-01, -7.21735327e-01,  1.00000000e+00],\n",
       "       [ 9.84983033e-02, -3.13844393e-01,  1.00000000e+00],\n",
       "       [ 1.86921825e+00,  1.36719357e+00,  1.00000000e+00],\n",
       "       [ 3.58207902e+00, -1.89263811e+00,  1.00000000e+00],\n",
       "       [ 8.42464085e-02,  2.90252319e-01,  1.00000000e+00],\n",
       "       [ 3.38087878e+00,  1.83871661e+00,  1.00000000e+00],\n",
       "       [ 5.26658761e-01, -7.25712588e-01,  1.00000000e+00],\n",
       "       [ 1.65419177e+00,  1.28615387e+00,  1.00000000e+00],\n",
       "       [ 5.08901749e-01, -7.13373499e-01,  1.00000000e+00],\n",
       "       [ 2.19302446e-01,  4.68297391e-01,  1.00000000e+00],\n",
       "       [ 2.29839872e-01, -4.79416179e-01,  1.00000000e+00],\n",
       "       [ 3.55288101e+00,  1.88490875e+00,  1.00000000e+00],\n",
       "       [ 4.14619784e-01,  6.43909763e-01,  1.00000000e+00],\n",
       "       [ 1.50447979e-01, -3.87876242e-01,  1.00000000e+00],\n",
       "       [ 1.13476040e+00, -1.06525133e+00,  1.00000000e+00],\n",
       "       [ 5.83743917e+00, -2.41607930e+00,  1.00000000e+00],\n",
       "       [ 2.18407675e+00,  1.47786222e+00,  1.00000000e+00],\n",
       "       [ 2.31451112e-01,  4.81093662e-01,  1.00000000e+00],\n",
       "       [ 4.69839441e-01,  6.85448350e-01,  1.00000000e+00],\n",
       "       [ 1.06312933e-02,  1.03108163e-01,  1.00000000e+00],\n",
       "       [ 1.05365066e+00, -1.02647487e+00,  1.00000000e+00],\n",
       "       [ 2.41302276e-02, -1.55339073e-01,  1.00000000e+00],\n",
       "       [ 6.07909700e-01, -7.79685642e-01,  1.00000000e+00],\n",
       "       [ 2.79078003e-02, -1.67056279e-01,  1.00000000e+00],\n",
       "       [ 1.18820611e+00,  1.09004867e+00,  1.00000000e+00],\n",
       "       [ 2.93600446e+00, -1.71347730e+00,  1.00000000e+00],\n",
       "       [ 8.83734841e-01, -9.40071721e-01,  1.00000000e+00],\n",
       "       [ 1.42149030e-01,  3.77026564e-01,  1.00000000e+00],\n",
       "       [ 6.71133107e+00,  2.59062368e+00,  1.00000000e+00],\n",
       "       [ 4.69397225e-01, -6.85125700e-01,  1.00000000e+00],\n",
       "       [ 2.83228953e+00,  1.68294074e+00,  1.00000000e+00],\n",
       "       [ 7.88767175e-01,  8.88125653e-01,  1.00000000e+00],\n",
       "       [ 6.43548842e+00,  2.53682645e+00,  1.00000000e+00],\n",
       "       [ 3.42154625e+00,  1.84974221e+00,  1.00000000e+00],\n",
       "       [ 2.14391917e+00,  1.46421282e+00,  1.00000000e+00],\n",
       "       [ 1.42667369e+00, -1.19443446e+00,  1.00000000e+00],\n",
       "       [ 2.47683849e-01,  4.97678459e-01,  1.00000000e+00],\n",
       "       [ 1.08763179e-01, -3.29792631e-01,  1.00000000e+00],\n",
       "       [ 1.57879452e+00,  1.25650090e+00,  1.00000000e+00],\n",
       "       [ 8.82269150e-01, -9.39291834e-01,  1.00000000e+00],\n",
       "       [ 5.40247072e-01, -7.35015015e-01,  1.00000000e+00],\n",
       "       [ 4.49052401e-01,  6.70113722e-01,  1.00000000e+00],\n",
       "       [ 2.26899739e+00,  1.50631915e+00,  1.00000000e+00],\n",
       "       [ 6.12007140e-01, -7.82308852e-01,  1.00000000e+00],\n",
       "       [ 1.05259940e-01, -3.24437883e-01,  1.00000000e+00],\n",
       "       [ 8.32647439e-01, -9.12495172e-01,  1.00000000e+00],\n",
       "       [ 2.42133737e+00,  1.55606471e+00,  1.00000000e+00],\n",
       "       [ 7.11997018e-01,  8.43799157e-01,  1.00000000e+00],\n",
       "       [ 1.32718465e+00,  1.15203500e+00,  1.00000000e+00],\n",
       "       [ 1.77114201e-01,  4.20849380e-01,  1.00000000e+00],\n",
       "       [ 1.08710809e+00, -1.04264476e+00,  1.00000000e+00],\n",
       "       [ 2.42378150e+00, -1.55684986e+00,  1.00000000e+00],\n",
       "       [ 2.24526668e+00,  1.49842140e+00,  1.00000000e+00],\n",
       "       [ 8.04549069e-01,  8.96966593e-01,  1.00000000e+00],\n",
       "       [ 2.68374884e-03,  5.18049114e-02,  1.00000000e+00],\n",
       "       [ 2.19986929e-02, -1.48319563e-01,  1.00000000e+00],\n",
       "       [ 6.64402341e-01, -8.15108791e-01,  1.00000000e+00],\n",
       "       [ 2.03812504e+00,  1.42762917e+00,  1.00000000e+00],\n",
       "       [ 5.61141039e-01, -7.49093478e-01,  1.00000000e+00],\n",
       "       [ 3.59890121e-01, -5.99908427e-01,  1.00000000e+00],\n",
       "       [ 1.19400877e+00,  1.09270708e+00,  1.00000000e+00],\n",
       "       [ 2.67250936e-01, -5.16963186e-01,  1.00000000e+00],\n",
       "       [ 3.69436343e+00, -1.92207269e+00,  1.00000000e+00],\n",
       "       [ 5.01044588e-01,  7.07845031e-01,  1.00000000e+00],\n",
       "       [ 5.31099803e-02,  2.30456027e-01,  1.00000000e+00],\n",
       "       [ 4.13339003e-03, -6.42914460e-02,  1.00000000e+00],\n",
       "       [ 2.65845176e-01,  5.15601761e-01,  1.00000000e+00],\n",
       "       [ 1.25137293e-01,  3.53747499e-01,  1.00000000e+00],\n",
       "       [ 8.96833747e-01, -9.47013066e-01,  1.00000000e+00],\n",
       "       [ 5.19659439e-01, -7.20874080e-01,  1.00000000e+00],\n",
       "       [ 7.48718769e-01, -8.65285368e-01,  1.00000000e+00],\n",
       "       [ 3.52832022e+00,  1.87838234e+00,  1.00000000e+00],\n",
       "       [ 4.76950332e-02, -2.18391926e-01,  1.00000000e+00],\n",
       "       [ 2.37964456e-01,  4.87816007e-01,  1.00000000e+00],\n",
       "       [ 6.91132068e-01, -8.31343532e-01,  1.00000000e+00],\n",
       "       [ 3.03940892e+00,  1.74339007e+00,  1.00000000e+00],\n",
       "       [ 3.14490865e-02, -1.77338903e-01,  1.00000000e+00],\n",
       "       [ 4.25647894e-02,  2.06312359e-01,  1.00000000e+00],\n",
       "       [ 1.97342029e-01,  4.44231954e-01,  1.00000000e+00],\n",
       "       [ 1.74198598e-01,  4.17371055e-01,  1.00000000e+00],\n",
       "       [ 2.09881480e+00, -1.44872869e+00,  1.00000000e+00],\n",
       "       [ 3.63374404e-01,  6.02805444e-01,  1.00000000e+00],\n",
       "       [ 2.14264075e+00,  1.46377620e+00,  1.00000000e+00],\n",
       "       [ 1.40400935e+00,  1.18490901e+00,  1.00000000e+00],\n",
       "       [ 8.70900683e-01,  9.33220597e-01,  1.00000000e+00],\n",
       "       [ 1.16299911e+00,  1.07842436e+00,  1.00000000e+00],\n",
       "       [ 1.31561480e-01,  3.62714047e-01,  1.00000000e+00],\n",
       "       [ 1.62440459e+00, -1.27452132e+00,  1.00000000e+00],\n",
       "       [ 9.71591721e-03,  9.85693523e-02,  1.00000000e+00],\n",
       "       [ 7.02385749e-03, -8.38084572e-02,  1.00000000e+00],\n",
       "       [ 1.17146640e-03,  3.42266913e-02,  1.00000000e+00],\n",
       "       [ 4.36515823e-01, -6.60693441e-01,  1.00000000e+00],\n",
       "       [ 2.92698415e-01, -5.41016095e-01,  1.00000000e+00],\n",
       "       [ 3.86385169e-02,  1.96566826e-01,  1.00000000e+00],\n",
       "       [ 9.62975586e-01,  9.81313195e-01,  1.00000000e+00],\n",
       "       [ 2.12042516e+00,  1.45616797e+00,  1.00000000e+00],\n",
       "       [ 7.48542112e-02,  2.73594977e-01,  1.00000000e+00],\n",
       "       [ 1.11658840e+00, -1.05668747e+00,  1.00000000e+00],\n",
       "       [ 5.06878563e-01, -7.11954046e-01,  1.00000000e+00],\n",
       "       [ 2.85766537e+00, -1.69046306e+00,  1.00000000e+00],\n",
       "       [ 9.56364607e-03,  9.77938959e-02,  1.00000000e+00],\n",
       "       [ 6.48370067e-02, -2.54631119e-01,  1.00000000e+00],\n",
       "       [ 6.37541585e-01,  7.98462012e-01,  1.00000000e+00],\n",
       "       [ 5.27574998e+00, -2.29690008e+00,  1.00000000e+00],\n",
       "       [ 1.18123602e+00, -1.08684682e+00,  1.00000000e+00],\n",
       "       [ 3.76612762e+00, -1.94065134e+00,  1.00000000e+00],\n",
       "       [ 1.27447770e+00,  1.12892768e+00,  1.00000000e+00],\n",
       "       [ 1.84142235e-01,  4.29117973e-01,  1.00000000e+00],\n",
       "       [ 1.04917403e+00, -1.02429196e+00,  1.00000000e+00],\n",
       "       [ 2.90478842e-01,  5.38960891e-01,  1.00000000e+00],\n",
       "       [ 5.93002916e-03, -7.70066826e-02,  1.00000000e+00],\n",
       "       [ 3.25646183e+00, -1.80456694e+00,  1.00000000e+00],\n",
       "       [ 5.78367208e-01, -7.60504575e-01,  1.00000000e+00],\n",
       "       [ 9.72958980e-01, -9.86386831e-01,  1.00000000e+00],\n",
       "       [ 8.95169300e-01,  9.46133870e-01,  1.00000000e+00],\n",
       "       [ 6.95383675e-01,  8.33896681e-01,  1.00000000e+00],\n",
       "       [ 9.84292233e-03,  9.92115030e-02,  1.00000000e+00],\n",
       "       [ 1.26812540e-02, -1.12611074e-01,  1.00000000e+00],\n",
       "       [ 1.18322477e-01, -3.43980344e-01,  1.00000000e+00],\n",
       "       [ 8.91090985e-02,  2.98511471e-01,  1.00000000e+00],\n",
       "       [ 3.36067147e-01, -5.79712987e-01,  1.00000000e+00],\n",
       "       [ 3.10652307e+00, -1.76253314e+00,  1.00000000e+00],\n",
       "       [ 4.85393295e-01, -6.96701726e-01,  1.00000000e+00],\n",
       "       [ 2.79462123e+00,  1.67171207e+00,  1.00000000e+00],\n",
       "       [ 2.73665848e-01, -5.23130814e-01,  1.00000000e+00],\n",
       "       [ 1.93184538e+00,  1.38990841e+00,  1.00000000e+00],\n",
       "       [ 1.61428956e-01, -4.01782224e-01,  1.00000000e+00],\n",
       "       [ 1.55468198e-01,  3.94294557e-01,  1.00000000e+00],\n",
       "       [ 1.07496421e+00, -1.03680481e+00,  1.00000000e+00],\n",
       "       [ 1.70887265e-02,  1.30723856e-01,  1.00000000e+00],\n",
       "       [ 6.85396016e-01,  8.27886475e-01,  1.00000000e+00],\n",
       "       [ 1.28398983e-01, -3.58328038e-01,  1.00000000e+00],\n",
       "       [ 6.90675253e-03,  8.31068741e-02,  1.00000000e+00],\n",
       "       [ 1.28780467e+00,  1.13481482e+00,  1.00000000e+00],\n",
       "       [ 4.10626571e+00, -2.02639229e+00,  1.00000000e+00],\n",
       "       [ 3.87028735e-01,  6.22116335e-01,  1.00000000e+00],\n",
       "       [ 2.46586674e-01, -4.96574943e-01,  1.00000000e+00],\n",
       "       [ 1.94063265e+00,  1.39306592e+00,  1.00000000e+00],\n",
       "       [ 2.76431219e+00,  1.66262208e+00,  1.00000000e+00],\n",
       "       [ 9.15927920e-01, -9.57041232e-01,  1.00000000e+00],\n",
       "       [ 4.60710474e-03, -6.78756564e-02,  1.00000000e+00],\n",
       "       [ 1.02904243e+00, -1.01441728e+00,  1.00000000e+00],\n",
       "       [ 2.19047217e-01,  4.68024804e-01,  1.00000000e+00],\n",
       "       [ 6.98574495e+00, -2.64305599e+00,  1.00000000e+00],\n",
       "       [ 3.99265933e-02, -1.99816399e-01,  1.00000000e+00],\n",
       "       [ 2.40964697e-01,  4.90881551e-01,  1.00000000e+00],\n",
       "       [ 1.26275993e+00,  1.12372592e+00,  1.00000000e+00],\n",
       "       [ 8.39368704e-01, -9.16170674e-01,  1.00000000e+00],\n",
       "       [ 5.23471743e-02, -2.28795049e-01,  1.00000000e+00],\n",
       "       [ 2.46399826e-02,  1.56971280e-01,  1.00000000e+00],\n",
       "       [ 2.48220153e-02,  1.57550041e-01,  1.00000000e+00],\n",
       "       [ 6.65872088e-02,  2.58044974e-01,  1.00000000e+00],\n",
       "       [ 9.51844937e+00, -3.08519843e+00,  1.00000000e+00],\n",
       "       [ 1.58490395e-01,  3.98108521e-01,  1.00000000e+00],\n",
       "       [ 2.79330901e-01, -5.28517645e-01,  1.00000000e+00],\n",
       "       [ 2.08720474e+00, -1.44471615e+00,  1.00000000e+00],\n",
       "       [ 2.47898076e+00, -1.57447793e+00,  1.00000000e+00],\n",
       "       [ 4.95048762e-01, -7.03597017e-01,  1.00000000e+00],\n",
       "       [ 4.22842267e-02, -2.05631288e-01,  1.00000000e+00],\n",
       "       [ 6.76854650e-01,  8.22711766e-01,  1.00000000e+00]])"
      ]
     },
     "execution_count": 1117,
     "metadata": {},
     "output_type": "execute_result"
    }
   ],
   "source": [
    "bias = np.ones((y.shape[0], 1))\n",
    "X = np.concatenate((x**2, x, bias), axis=1)\n",
    "X"
   ]
  },
  {
   "cell_type": "code",
   "execution_count": 1118,
   "id": "231c964c",
   "metadata": {},
   "outputs": [
    {
     "data": {
      "text/plain": [
       "array([[ 1.23715571],\n",
       "       [-1.08674071],\n",
       "       [ 0.35285279]])"
      ]
     },
     "execution_count": 1118,
     "metadata": {},
     "output_type": "execute_result"
    }
   ],
   "source": [
    "theta = np.random.randn(X.shape[1], 1)\n",
    "theta"
   ]
  },
  {
   "cell_type": "code",
   "execution_count": 1119,
   "id": "6e3ea600",
   "metadata": {},
   "outputs": [],
   "source": [
    "def model(X, theta):\n",
    "    return X.dot(theta)"
   ]
  },
  {
   "cell_type": "code",
   "execution_count": 1120,
   "id": "f38d9e55",
   "metadata": {},
   "outputs": [
    {
     "data": {
      "text/plain": [
       "4865.916149310802"
      ]
     },
     "execution_count": 1120,
     "metadata": {},
     "output_type": "execute_result"
    }
   ],
   "source": [
    "def cost(X, y, theta):\n",
    "    m = y.shape[0]\n",
    "    return (1/(2*m)) * np.sum((model(X, theta) - y)**2)\n",
    "\n",
    "cost(X, y, theta)"
   ]
  },
  {
   "cell_type": "code",
   "execution_count": 1121,
   "id": "fa18a306",
   "metadata": {},
   "outputs": [],
   "source": [
    "def grad(X, y, theta):\n",
    "    m = y.shape[0]\n",
    "    return (1/m) * X.T.dot(model(X, theta) - y)"
   ]
  },
  {
   "cell_type": "code",
   "execution_count": 1122,
   "id": "fab96876",
   "metadata": {},
   "outputs": [],
   "source": [
    "def gradient_descent(X, y, theta, learning_rate, n_iterations):\n",
    "    cost_history = np.zeros(n_iterations)\n",
    "    for i in range(n_iterations):\n",
    "        theta = theta - learning_rate * grad(X, y, theta)\n",
    "        cost_history[i] = cost(X, y, theta)\n",
    "    return theta, cost_history"
   ]
  },
  {
   "cell_type": "code",
   "execution_count": 1123,
   "id": "e9e3521d",
   "metadata": {},
   "outputs": [
    {
     "data": {
      "text/plain": [
       "array([[16.75022129],\n",
       "       [83.40219018],\n",
       "       [16.78793447]])"
      ]
     },
     "execution_count": 1123,
     "metadata": {},
     "output_type": "execute_result"
    }
   ],
   "source": [
    "theta_optim, cost_history = gradient_descent(X, y, theta, 0.01, 400)\n",
    "theta_optim"
   ]
  },
  {
   "cell_type": "code",
   "execution_count": 1124,
   "id": "70e67e53",
   "metadata": {},
   "outputs": [],
   "source": [
    "predictions = model(X, theta_optim)"
   ]
  },
  {
   "cell_type": "code",
   "execution_count": 1125,
   "id": "fc56dfe0",
   "metadata": {},
   "outputs": [
    {
     "data": {
      "text/plain": [
       "[<matplotlib.lines.Line2D at 0x7feea0d62850>]"
      ]
     },
     "execution_count": 1125,
     "metadata": {},
     "output_type": "execute_result"
    },
    {
     "data": {
      "image/png": "[encoded data removed]",
      "text/plain": [
       "<Figure size 432x288 with 1 Axes>"
      ]
     },
     "metadata": {
      "needs_background": "light"
     },
     "output_type": "display_data"
    }
   ],
   "source": [
    "plt.plot(cost_history)"
   ]
  },
  {
   "cell_type": "code",
   "execution_count": 1126,
   "id": "6440b60f",
   "metadata": {},
   "outputs": [
    {
     "data": {
      "text/plain": [
       "<matplotlib.collections.PathCollection at 0x7feea0d088b0>"
      ]
     },
     "execution_count": 1126,
     "metadata": {},
     "output_type": "execute_result"
    },
    {
     "data": {
      "image/png": "[encoded data removed]",
      "text/plain": [
       "<Figure size 432x288 with 1 Axes>"
      ]
     },
     "metadata": {
      "needs_background": "light"
     },
     "output_type": "display_data"
    }
   ],
   "source": [
    "plt.scatter(x, y)\n",
    "plt.scatter(x, predictions, c='r')"
   ]
  },
  {
   "cell_type": "code",
   "execution_count": 1127,
   "id": "8ad6ca87",
   "metadata": {},
   "outputs": [],
   "source": [
    "def determination_coef(y, predictions):\n",
    "    u = np.sum((y - predictions))**2\n",
    "    v = np.sum((y - y.mean())**2)\n",
    "    return 1 - u/v"
   ]
  },
  {
   "cell_type": "code",
   "execution_count": 1128,
   "id": "e604b9fd",
   "metadata": {},
   "outputs": [
    {
     "data": {
      "text/plain": [
       "0.9993813948177418"
      ]
     },
     "execution_count": 1128,
     "metadata": {},
     "output_type": "execute_result"
    }
   ],
   "source": [
    "determination_coef(y, predictions)"
   ]
  }
 ],
 "metadata": {
  "kernelspec": {
   "display_name": "Python 3 (ipykernel)",
   "language": "python",
   "name": "python3"
  },
  "language_info": {
   "codemirror_mode": {
    "name": "ipython",
    "version": 3
   },
   "file_extension": ".py",
   "mimetype": "text/x-python",
   "name": "python",
   "nbconvert_exporter": "python",
   "pygments_lexer": "ipython3",
   "version": "3.9.7"
  }
 },
 "nbformat": 4,
 "nbformat_minor": 5
}
