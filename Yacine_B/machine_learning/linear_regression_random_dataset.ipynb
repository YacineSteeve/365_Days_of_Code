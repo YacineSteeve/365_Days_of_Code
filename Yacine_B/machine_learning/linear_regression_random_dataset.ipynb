{
 "cells": [
  {
   "cell_type": "code",
   "execution_count": 1180,
   "id": "454fe11b",
   "metadata": {},
   "outputs": [],
   "source": [
    "import numpy as np\n",
    "import matplotlib.pyplot as plt\n",
    "from sklearn.datasets import make_regression as mkreg"
   ]
  },
  {
   "cell_type": "code",
   "execution_count": 1181,
   "id": "6824319a",
   "metadata": {},
   "outputs": [],
   "source": [
    "x, y = mkreg(n_samples=250, n_features=1, noise=10)"
   ]
  },
  {
   "cell_type": "code",
   "execution_count": 1182,
   "id": "f6be7cc5",
   "metadata": {},
   "outputs": [
    {
     "data": {
      "text/plain": [
       "(250, 1)"
      ]
     },
     "execution_count": 1182,
     "metadata": {},
     "output_type": "execute_result"
    }
   ],
   "source": [
    "y = y + abs(y/2)\n",
    "y = y.reshape(y.shape[0], 1)\n",
    "y.shape"
   ]
  },
  {
   "cell_type": "code",
   "execution_count": 1183,
   "id": "54f814f7",
   "metadata": {},
   "outputs": [
    {
     "data": {
      "text/plain": [
       "(250, 1)"
      ]
     },
     "execution_count": 1183,
     "metadata": {},
     "output_type": "execute_result"
    }
   ],
   "source": [
    "x.shape"
   ]
  },
  {
   "cell_type": "code",
   "execution_count": 1184,
   "id": "f015d835",
   "metadata": {},
   "outputs": [
    {
     "data": {
      "text/plain": [
       "<matplotlib.collections.PathCollection at 0x7feea08c2580>"
      ]
     },
     "execution_count": 1184,
     "metadata": {},
     "output_type": "execute_result"
    },
    {
     "data": {
      "image/png": "[encoded data removed]",
      "text/plain": [
       "<Figure size 432x288 with 1 Axes>"
      ]
     },
     "metadata": {
      "needs_background": "light"
     },
     "output_type": "display_data"
    }
   ],
   "source": [
    "plt.scatter(x, y)"
   ]
  },
  {
   "cell_type": "code",
   "execution_count": 1185,
   "id": "f9e26db5",
   "metadata": {},
   "outputs": [],
   "source": [
    "bias = np.ones((y.shape[0], 1))\n",
    "X = np.concatenate((x**2, x, bias), axis=1)"
   ]
  },
  {
   "cell_type": "code",
   "execution_count": 1186,
   "id": "015b88b8",
   "metadata": {},
   "outputs": [
    {
     "data": {
      "text/plain": [
       "array([[ 1.33707787],\n",
       "       [ 1.93841017],\n",
       "       [-0.78248362]])"
      ]
     },
     "execution_count": 1186,
     "metadata": {},
     "output_type": "execute_result"
    }
   ],
   "source": [
    "theta = np.random.randn(X.shape[1], 1)\n",
    "theta"
   ]
  },
  {
   "cell_type": "code",
   "execution_count": 1187,
   "id": "a6ead384",
   "metadata": {},
   "outputs": [],
   "source": [
    "def model(X, theta):\n",
    "    return X.dot(theta)"
   ]
  },
  {
   "cell_type": "code",
   "execution_count": 1188,
   "id": "0dfd4c2c",
   "metadata": {},
   "outputs": [
    {
     "data": {
      "text/plain": [
       "2682.506754686449"
      ]
     },
     "execution_count": 1188,
     "metadata": {},
     "output_type": "execute_result"
    }
   ],
   "source": [
    "def cost(X, y, theta):\n",
    "    m = y.shape[0]\n",
    "    return (1/(2*m)) * np.sum((model(X, theta) - y)**2)\n",
    "\n",
    "cost(X, y, theta)"
   ]
  },
  {
   "cell_type": "code",
   "execution_count": 1189,
   "id": "3cce5ca5",
   "metadata": {},
   "outputs": [],
   "source": [
    "def grad(X, y, theta):\n",
    "    m = y.shape[0]\n",
    "    return (1/m) * X.T.dot(model(X, theta) - y)"
   ]
  },
  {
   "cell_type": "code",
   "execution_count": 1190,
   "id": "40ea68bc",
   "metadata": {},
   "outputs": [],
   "source": [
    "def gradient_descent(X, y, theta, learning_rate, n_iterations):\n",
    "    cost_history = np.zeros(n_iterations)\n",
    "    for i in range(n_iterations):\n",
    "        theta = theta - learning_rate * grad(X, y, theta)\n",
    "        cost_history[i] = cost(X, y, theta)\n",
    "    return theta, cost_history"
   ]
  },
  {
   "cell_type": "code",
   "execution_count": 1191,
   "id": "421c4cbe",
   "metadata": {},
   "outputs": [
    {
     "data": {
      "text/plain": [
       "array([[12.21967777],\n",
       "       [60.30057657],\n",
       "       [12.49319824]])"
      ]
     },
     "execution_count": 1191,
     "metadata": {},
     "output_type": "execute_result"
    }
   ],
   "source": [
    "theta_optim, cost_history = gradient_descent(X, y, theta, 0.01, 400)\n",
    "theta_optim"
   ]
  },
  {
   "cell_type": "code",
   "execution_count": 1192,
   "id": "659fda55",
   "metadata": {},
   "outputs": [],
   "source": [
    "predictions = model(X, theta_optim)"
   ]
  },
  {
   "cell_type": "code",
   "execution_count": 1193,
   "id": "3c86cabf",
   "metadata": {},
   "outputs": [
    {
     "data": {
      "text/plain": [
       "[<matplotlib.lines.Line2D at 0x7feea08b50d0>]"
      ]
     },
     "execution_count": 1193,
     "metadata": {},
     "output_type": "execute_result"
    },
    {
     "data": {
      "image/png": "[encoded data removed]",
      "text/plain": [
       "<Figure size 432x288 with 1 Axes>"
      ]
     },
     "metadata": {
      "needs_background": "light"
     },
     "output_type": "display_data"
    }
   ],
   "source": [
    "plt.plot(cost_history)"
   ]
  },
  {
   "cell_type": "code",
   "execution_count": 1194,
   "id": "72e1d773",
   "metadata": {},
   "outputs": [
    {
     "data": {
      "text/plain": [
       "<matplotlib.collections.PathCollection at 0x7feea0816f10>"
      ]
     },
     "execution_count": 1194,
     "metadata": {},
     "output_type": "execute_result"
    },
    {
     "data": {
      "image/png": "[encoded data removed]",
      "text/plain": [
       "<Figure size 432x288 with 1 Axes>"
      ]
     },
     "metadata": {
      "needs_background": "light"
     },
     "output_type": "display_data"
    }
   ],
   "source": [
    "plt.scatter(x, y)\n",
    "plt.scatter(x, predictions, c='r')"
   ]
  },
  {
   "cell_type": "code",
   "execution_count": 1195,
   "id": "3f0ab75a",
   "metadata": {},
   "outputs": [],
   "source": [
    "def determination_coef(y, predictions):\n",
    "    u = np.sum((y - predictions))**2\n",
    "    v = np.sum((y - y.mean())**2)\n",
    "    return 1 - u/v"
   ]
  },
  {
   "cell_type": "code",
   "execution_count": 1196,
   "id": "e16ff953",
   "metadata": {},
   "outputs": [
    {
     "data": {
      "text/plain": [
       "0.9690990916529691"
      ]
     },
     "execution_count": 1196,
     "metadata": {},
     "output_type": "execute_result"
    }
   ],
   "source": [
    "determination_coef(y, predictions)"
   ]
  }
 ],
 "metadata": {
  "kernelspec": {
   "display_name": "Python 3 (ipykernel)",
   "language": "python",
   "name": "python3"
  },
  "language_info": {
   "codemirror_mode": {
    "name": "ipython",
    "version": 3
   },
   "file_extension": ".py",
   "mimetype": "text/x-python",
   "name": "python",
   "nbconvert_exporter": "python",
   "pygments_lexer": "ipython3",
   "version": "3.9.7"
  }
 },
 "nbformat": 4,
 "nbformat_minor": 5
}
