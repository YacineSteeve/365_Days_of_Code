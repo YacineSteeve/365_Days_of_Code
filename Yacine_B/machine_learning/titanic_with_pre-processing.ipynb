{
 "cells": [
  {
   "cell_type": "code",
   "execution_count": null,
   "metadata": {
    "pycharm": {
     "name": "#%%\n",
     "is_executing": true
    }
   },
   "outputs": [],
   "source": [
    "import numpy as np\n",
    "import matplotlib.pyplot as plt\n",
    "import seaborn as sns\n",
    "import pandas as pd\n",
    "from sklearn.neighbors import KNeighborsClassifier\n",
    "from sklearn.linear_model import SGDClassifier\n",
    "from sklearn.feature_selection import SelectKBest, SelectFromModel, RFECV\n",
    "from sklearn.model_selection import train_test_split, ShuffleSplit, GridSearchCV\n",
    "from sklearn.compose import make_column_selector, make_column_transformer\n",
    "from sklearn.impute import KNNImputer, SimpleImputer\n",
    "from sklearn.preprocessing import StandardScaler, OneHotEncoder, OrdinalEncoder, LabelBinarizer, LabelEncoder\n",
    "from sklearn.pipeline import make_pipeline\n",
    "from sklearn.metrics import confusion_matrix"
   ]
  },
  {
   "cell_type": "code",
   "execution_count": 1741,
   "metadata": {
    "pycharm": {
     "name": "#%%\n"
    }
   },
   "outputs": [],
   "source": [
    "dataset = sns.load_dataset('titanic')"
   ]
  },
  {
   "cell_type": "code",
   "execution_count": 1742,
   "metadata": {
    "pycharm": {
     "name": "#%%\n"
    }
   },
   "outputs": [
    {
     "name": "stdout",
     "output_type": "stream",
     "text": [
      "Shape:  (891, 15)\n"
     ]
    },
    {
     "data": {
      "text/html": [
       "<div>\n",
       "<style scoped>\n",
       "    .dataframe tbody tr th:only-of-type {\n",
       "        vertical-align: middle;\n",
       "    }\n",
       "\n",
       "    .dataframe tbody tr th {\n",
       "        vertical-align: top;\n",
       "    }\n",
       "\n",
       "    .dataframe thead th {\n",
       "        text-align: right;\n",
       "    }\n",
       "</style>\n",
       "<table border=\"1\" class=\"dataframe\">\n",
       "  <thead>\n",
       "    <tr style=\"text-align: right;\">\n",
       "      <th></th>\n",
       "      <th>survived</th>\n",
       "      <th>pclass</th>\n",
       "      <th>sex</th>\n",
       "      <th>age</th>\n",
       "      <th>sibsp</th>\n",
       "      <th>parch</th>\n",
       "      <th>fare</th>\n",
       "      <th>embarked</th>\n",
       "      <th>class</th>\n",
       "      <th>who</th>\n",
       "      <th>adult_male</th>\n",
       "      <th>deck</th>\n",
       "      <th>embark_town</th>\n",
       "      <th>alive</th>\n",
       "      <th>alone</th>\n",
       "    </tr>\n",
       "  </thead>\n",
       "  <tbody>\n",
       "    <tr>\n",
       "      <th>0</th>\n",
       "      <td>0</td>\n",
       "      <td>3</td>\n",
       "      <td>male</td>\n",
       "      <td>22.0</td>\n",
       "      <td>1</td>\n",
       "      <td>0</td>\n",
       "      <td>7.2500</td>\n",
       "      <td>S</td>\n",
       "      <td>Third</td>\n",
       "      <td>man</td>\n",
       "      <td>True</td>\n",
       "      <td>NaN</td>\n",
       "      <td>Southampton</td>\n",
       "      <td>no</td>\n",
       "      <td>False</td>\n",
       "    </tr>\n",
       "    <tr>\n",
       "      <th>1</th>\n",
       "      <td>1</td>\n",
       "      <td>1</td>\n",
       "      <td>female</td>\n",
       "      <td>38.0</td>\n",
       "      <td>1</td>\n",
       "      <td>0</td>\n",
       "      <td>71.2833</td>\n",
       "      <td>C</td>\n",
       "      <td>First</td>\n",
       "      <td>woman</td>\n",
       "      <td>False</td>\n",
       "      <td>C</td>\n",
       "      <td>Cherbourg</td>\n",
       "      <td>yes</td>\n",
       "      <td>False</td>\n",
       "    </tr>\n",
       "    <tr>\n",
       "      <th>2</th>\n",
       "      <td>1</td>\n",
       "      <td>3</td>\n",
       "      <td>female</td>\n",
       "      <td>26.0</td>\n",
       "      <td>0</td>\n",
       "      <td>0</td>\n",
       "      <td>7.9250</td>\n",
       "      <td>S</td>\n",
       "      <td>Third</td>\n",
       "      <td>woman</td>\n",
       "      <td>False</td>\n",
       "      <td>NaN</td>\n",
       "      <td>Southampton</td>\n",
       "      <td>yes</td>\n",
       "      <td>True</td>\n",
       "    </tr>\n",
       "    <tr>\n",
       "      <th>3</th>\n",
       "      <td>1</td>\n",
       "      <td>1</td>\n",
       "      <td>female</td>\n",
       "      <td>35.0</td>\n",
       "      <td>1</td>\n",
       "      <td>0</td>\n",
       "      <td>53.1000</td>\n",
       "      <td>S</td>\n",
       "      <td>First</td>\n",
       "      <td>woman</td>\n",
       "      <td>False</td>\n",
       "      <td>C</td>\n",
       "      <td>Southampton</td>\n",
       "      <td>yes</td>\n",
       "      <td>False</td>\n",
       "    </tr>\n",
       "    <tr>\n",
       "      <th>4</th>\n",
       "      <td>0</td>\n",
       "      <td>3</td>\n",
       "      <td>male</td>\n",
       "      <td>35.0</td>\n",
       "      <td>0</td>\n",
       "      <td>0</td>\n",
       "      <td>8.0500</td>\n",
       "      <td>S</td>\n",
       "      <td>Third</td>\n",
       "      <td>man</td>\n",
       "      <td>True</td>\n",
       "      <td>NaN</td>\n",
       "      <td>Southampton</td>\n",
       "      <td>no</td>\n",
       "      <td>True</td>\n",
       "    </tr>\n",
       "  </tbody>\n",
       "</table>\n",
       "</div>"
      ],
      "text/plain": [
       "   survived  pclass     sex   age  sibsp  parch     fare embarked  class  \\\n",
       "0         0       3    male  22.0      1      0   7.2500        S  Third   \n",
       "1         1       1  female  38.0      1      0  71.2833        C  First   \n",
       "2         1       3  female  26.0      0      0   7.9250        S  Third   \n",
       "3         1       1  female  35.0      1      0  53.1000        S  First   \n",
       "4         0       3    male  35.0      0      0   8.0500        S  Third   \n",
       "\n",
       "     who  adult_male deck  embark_town alive  alone  \n",
       "0    man        True  NaN  Southampton    no  False  \n",
       "1  woman       False    C    Cherbourg   yes  False  \n",
       "2  woman       False  NaN  Southampton   yes   True  \n",
       "3  woman       False    C  Southampton   yes  False  \n",
       "4    man        True  NaN  Southampton    no   True  "
      ]
     },
     "execution_count": 1742,
     "metadata": {},
     "output_type": "execute_result"
    }
   ],
   "source": [
    "print('Shape: ', dataset.shape)\n",
    "dataset.head()"
   ]
  },
  {
   "cell_type": "code",
   "execution_count": 1743,
   "metadata": {
    "pycharm": {
     "name": "#%%\n"
    }
   },
   "outputs": [],
   "source": [
    "for feature in dataset.columns:\n",
    "    if feature not in ['age', 'fare']:\n",
    "        dataset[feature] = dataset[feature].astype('category')"
   ]
  },
  {
   "cell_type": "code",
   "execution_count": 1744,
   "metadata": {
    "pycharm": {
     "name": "#%%\n"
    }
   },
   "outputs": [],
   "source": [
    "y = dataset['survived']\n",
    "X = dataset.drop('survived', axis=1)"
   ]
  },
  {
   "cell_type": "code",
   "execution_count": 1745,
   "metadata": {
    "pycharm": {
     "name": "#%%\n"
    }
   },
   "outputs": [],
   "source": [
    "X_train, X_test, y_train, y_test = train_test_split(X, y,\n",
    "                                                    test_size=0.2,\n",
    "                                                    random_state=0\n",
    "                                                    )"
   ]
  },
  {
   "cell_type": "code",
   "execution_count": 1746,
   "metadata": {
    "pycharm": {
     "name": "#%%\n"
    }
   },
   "outputs": [],
   "source": [
    "numerical_features = make_column_selector(dtype_exclude='category')\n",
    "categorical_features  = make_column_selector(dtype_include='category')"
   ]
  },
  {
   "cell_type": "code",
   "execution_count": 1747,
   "metadata": {
    "pycharm": {
     "name": "#%%\n"
    }
   },
   "outputs": [],
   "source": [
    "numerical_pipeline = make_pipeline(KNNImputer(),\n",
    "                                   StandardScaler()\n",
    "                                   )\n",
    "\n",
    "categorical_pipeline = make_pipeline(SimpleImputer(strategy='most_frequent'),\n",
    "                                     OneHotEncoder(handle_unknown='ignore')\n",
    "                                     )"
   ]
  },
  {
   "cell_type": "code",
   "execution_count": 1748,
   "metadata": {
    "pycharm": {
     "name": "#%%\n"
    }
   },
   "outputs": [],
   "source": [
    "preprocessor = make_column_transformer((numerical_pipeline, numerical_features),\n",
    "                                       (categorical_pipeline, categorical_features)\n",
    "                                       )"
   ]
  },
  {
   "cell_type": "code",
   "execution_count": 1749,
   "metadata": {
    "pycharm": {
     "name": "#%%\n"
    }
   },
   "outputs": [],
   "source": [
    "feature_selector = RFECV(SGDClassifier(random_state=0),\n",
    "                         step=1,\n",
    "                         min_features_to_select=7,\n",
    "                         cv=5\n",
    "                         )"
   ]
  },
  {
   "cell_type": "code",
   "execution_count": 1750,
   "metadata": {
    "pycharm": {
     "name": "#%%\n"
    }
   },
   "outputs": [],
   "source": [
    "model = make_pipeline(preprocessor,\n",
    "                      feature_selector,\n",
    "                      KNeighborsClassifier()\n",
    "                      )"
   ]
  },
  {
   "cell_type": "code",
   "execution_count": 1751,
   "metadata": {
    "pycharm": {
     "name": "#%%\n"
    }
   },
   "outputs": [],
   "source": [
    "parameters = {'columntransformer__pipeline-1__knnimputer__weights': ['uniform', 'distance'],\n",
    "              'columntransformer__pipeline-1__knnimputer__n_neighbors': np.arange(1, 6),\n",
    "              'kneighborsclassifier__weights': ['uniform', 'distance'],\n",
    "              'kneighborsclassifier__n_neighbors': np.arange(1, 6),\n",
    "              'kneighborsclassifier__metric' : ['euclidean', 'manhattan', 'chebyshev', 'minkowski']\n",
    "              }"
   ]
  },
  {
   "cell_type": "code",
   "execution_count": 1752,
   "metadata": {
    "pycharm": {
     "name": "#%%\n"
    }
   },
   "outputs": [],
   "source": [
    "cross_val_generator = ShuffleSplit(test_size=0.2,\n",
    "                                   random_state=0)"
   ]
  },
  {
   "cell_type": "code",
   "execution_count": 1753,
   "metadata": {
    "pycharm": {
     "name": "#%%\n"
    }
   },
   "outputs": [],
   "source": [
    "grid = GridSearchCV(estimator=model,\n",
    "                    param_grid=parameters,\n",
    "                    cv=cross_val_generator,\n",
    "                    verbose=1\n",
    "                    )"
   ]
  },
  {
   "cell_type": "code",
   "execution_count": 1754,
   "metadata": {
    "pycharm": {
     "name": "#%%\n"
    }
   },
   "outputs": [
    {
     "name": "stdout",
     "output_type": "stream",
     "text": [
      "Fitting 10 folds for each of 400 candidates, totalling 4000 fits\n"
     ]
    },
    {
     "data": {
      "text/plain": [
       "GridSearchCV(cv=ShuffleSplit(n_splits=10, random_state=0, test_size=0.2, train_size=None),\n",
       "             estimator=Pipeline(steps=[('columntransformer',\n",
       "                                        ColumnTransformer(transformers=[('pipeline-1',\n",
       "                                                                         Pipeline(steps=[('knnimputer',\n",
       "                                                                                          KNNImputer()),\n",
       "                                                                                         ('standardscaler',\n",
       "                                                                                          StandardScaler())]),\n",
       "                                                                         <sklearn.compose._column_transformer.make_column_selector object at 0x7fca865d99a0>),\n",
       "                                                                        ('pipe...\n",
       "             param_grid={'columntransformer__pipeline-1__knnimputer__n_neighbors': array([1, 2, 3, 4, 5]),\n",
       "                         'columntransformer__pipeline-1__knnimputer__weights': ['uniform',\n",
       "                                                                                'distance'],\n",
       "                         'kneighborsclassifier__metric': ['euclidean',\n",
       "                                                          'manhattan',\n",
       "                                                          'chebyshev',\n",
       "                                                          'minkowski'],\n",
       "                         'kneighborsclassifier__n_neighbors': array([1, 2, 3, 4, 5]),\n",
       "                         'kneighborsclassifier__weights': ['uniform',\n",
       "                                                           'distance']},\n",
       "             verbose=1)"
      ]
     },
     "execution_count": 1754,
     "metadata": {},
     "output_type": "execute_result"
    }
   ],
   "source": [
    "grid.fit(X_train, y_train)"
   ]
  },
  {
   "cell_type": "code",
   "execution_count": 1755,
   "metadata": {
    "pycharm": {
     "name": "#%%\n"
    }
   },
   "outputs": [
    {
     "data": {
      "text/plain": [
       "{'columntransformer__pipeline-1__knnimputer__n_neighbors': 1,\n",
       " 'columntransformer__pipeline-1__knnimputer__weights': 'uniform',\n",
       " 'kneighborsclassifier__metric': 'euclidean',\n",
       " 'kneighborsclassifier__n_neighbors': 3,\n",
       " 'kneighborsclassifier__weights': 'uniform'}"
      ]
     },
     "execution_count": 1755,
     "metadata": {},
     "output_type": "execute_result"
    }
   ],
   "source": [
    "grid.best_params_"
   ]
  },
  {
   "cell_type": "code",
   "execution_count": 1756,
   "metadata": {
    "pycharm": {
     "name": "#%%\n"
    }
   },
   "outputs": [
    {
     "data": {
      "text/plain": [
       "1.0"
      ]
     },
     "execution_count": 1756,
     "metadata": {},
     "output_type": "execute_result"
    }
   ],
   "source": [
    "grid.best_score_"
   ]
  },
  {
   "cell_type": "code",
   "execution_count": 1757,
   "metadata": {
    "pycharm": {
     "name": "#%%\n"
    }
   },
   "outputs": [
    {
     "data": {
      "text/html": [
       "<div>\n",
       "<style scoped>\n",
       "    .dataframe tbody tr th:only-of-type {\n",
       "        vertical-align: middle;\n",
       "    }\n",
       "\n",
       "    .dataframe tbody tr th {\n",
       "        vertical-align: top;\n",
       "    }\n",
       "\n",
       "    .dataframe thead th {\n",
       "        text-align: right;\n",
       "    }\n",
       "</style>\n",
       "<table border=\"1\" class=\"dataframe\">\n",
       "  <thead>\n",
       "    <tr style=\"text-align: right;\">\n",
       "      <th></th>\n",
       "      <th>mean_fit_time</th>\n",
       "      <th>std_fit_time</th>\n",
       "      <th>mean_score_time</th>\n",
       "      <th>std_score_time</th>\n",
       "      <th>param_columntransformer__pipeline-1__knnimputer__n_neighbors</th>\n",
       "      <th>param_columntransformer__pipeline-1__knnimputer__weights</th>\n",
       "      <th>param_kneighborsclassifier__metric</th>\n",
       "      <th>param_kneighborsclassifier__n_neighbors</th>\n",
       "      <th>param_kneighborsclassifier__weights</th>\n",
       "      <th>params</th>\n",
       "      <th>...</th>\n",
       "      <th>split3_test_score</th>\n",
       "      <th>split4_test_score</th>\n",
       "      <th>split5_test_score</th>\n",
       "      <th>split6_test_score</th>\n",
       "      <th>split7_test_score</th>\n",
       "      <th>split8_test_score</th>\n",
       "      <th>split9_test_score</th>\n",
       "      <th>mean_test_score</th>\n",
       "      <th>std_test_score</th>\n",
       "      <th>rank_test_score</th>\n",
       "    </tr>\n",
       "  </thead>\n",
       "  <tbody>\n",
       "    <tr>\n",
       "      <th>0</th>\n",
       "      <td>0.369916</td>\n",
       "      <td>0.118839</td>\n",
       "      <td>0.012735</td>\n",
       "      <td>0.005124</td>\n",
       "      <td>1</td>\n",
       "      <td>uniform</td>\n",
       "      <td>euclidean</td>\n",
       "      <td>1</td>\n",
       "      <td>uniform</td>\n",
       "      <td>{'columntransformer__pipeline-1__knnimputer__n...</td>\n",
       "      <td>...</td>\n",
       "      <td>1.0</td>\n",
       "      <td>1.000000</td>\n",
       "      <td>0.993007</td>\n",
       "      <td>1.0</td>\n",
       "      <td>1.0</td>\n",
       "      <td>1.000000</td>\n",
       "      <td>1.0</td>\n",
       "      <td>0.999301</td>\n",
       "      <td>0.002098</td>\n",
       "      <td>138</td>\n",
       "    </tr>\n",
       "    <tr>\n",
       "      <th>1</th>\n",
       "      <td>0.280697</td>\n",
       "      <td>0.015524</td>\n",
       "      <td>0.008063</td>\n",
       "      <td>0.001089</td>\n",
       "      <td>1</td>\n",
       "      <td>uniform</td>\n",
       "      <td>euclidean</td>\n",
       "      <td>1</td>\n",
       "      <td>distance</td>\n",
       "      <td>{'columntransformer__pipeline-1__knnimputer__n...</td>\n",
       "      <td>...</td>\n",
       "      <td>1.0</td>\n",
       "      <td>1.000000</td>\n",
       "      <td>0.993007</td>\n",
       "      <td>1.0</td>\n",
       "      <td>1.0</td>\n",
       "      <td>1.000000</td>\n",
       "      <td>1.0</td>\n",
       "      <td>0.999301</td>\n",
       "      <td>0.002098</td>\n",
       "      <td>138</td>\n",
       "    </tr>\n",
       "    <tr>\n",
       "      <th>2</th>\n",
       "      <td>0.319870</td>\n",
       "      <td>0.064053</td>\n",
       "      <td>0.010755</td>\n",
       "      <td>0.002245</td>\n",
       "      <td>1</td>\n",
       "      <td>uniform</td>\n",
       "      <td>euclidean</td>\n",
       "      <td>2</td>\n",
       "      <td>uniform</td>\n",
       "      <td>{'columntransformer__pipeline-1__knnimputer__n...</td>\n",
       "      <td>...</td>\n",
       "      <td>1.0</td>\n",
       "      <td>0.993007</td>\n",
       "      <td>0.993007</td>\n",
       "      <td>1.0</td>\n",
       "      <td>1.0</td>\n",
       "      <td>1.000000</td>\n",
       "      <td>1.0</td>\n",
       "      <td>0.998601</td>\n",
       "      <td>0.002797</td>\n",
       "      <td>211</td>\n",
       "    </tr>\n",
       "    <tr>\n",
       "      <th>3</th>\n",
       "      <td>0.274372</td>\n",
       "      <td>0.011749</td>\n",
       "      <td>0.007384</td>\n",
       "      <td>0.000488</td>\n",
       "      <td>1</td>\n",
       "      <td>uniform</td>\n",
       "      <td>euclidean</td>\n",
       "      <td>2</td>\n",
       "      <td>distance</td>\n",
       "      <td>{'columntransformer__pipeline-1__knnimputer__n...</td>\n",
       "      <td>...</td>\n",
       "      <td>1.0</td>\n",
       "      <td>1.000000</td>\n",
       "      <td>0.993007</td>\n",
       "      <td>1.0</td>\n",
       "      <td>1.0</td>\n",
       "      <td>1.000000</td>\n",
       "      <td>1.0</td>\n",
       "      <td>0.999301</td>\n",
       "      <td>0.002098</td>\n",
       "      <td>138</td>\n",
       "    </tr>\n",
       "    <tr>\n",
       "      <th>4</th>\n",
       "      <td>0.361255</td>\n",
       "      <td>0.111599</td>\n",
       "      <td>0.012926</td>\n",
       "      <td>0.004489</td>\n",
       "      <td>1</td>\n",
       "      <td>uniform</td>\n",
       "      <td>euclidean</td>\n",
       "      <td>3</td>\n",
       "      <td>uniform</td>\n",
       "      <td>{'columntransformer__pipeline-1__knnimputer__n...</td>\n",
       "      <td>...</td>\n",
       "      <td>1.0</td>\n",
       "      <td>1.000000</td>\n",
       "      <td>1.000000</td>\n",
       "      <td>1.0</td>\n",
       "      <td>1.0</td>\n",
       "      <td>1.000000</td>\n",
       "      <td>1.0</td>\n",
       "      <td>1.000000</td>\n",
       "      <td>0.000000</td>\n",
       "      <td>1</td>\n",
       "    </tr>\n",
       "    <tr>\n",
       "      <th>...</th>\n",
       "      <td>...</td>\n",
       "      <td>...</td>\n",
       "      <td>...</td>\n",
       "      <td>...</td>\n",
       "      <td>...</td>\n",
       "      <td>...</td>\n",
       "      <td>...</td>\n",
       "      <td>...</td>\n",
       "      <td>...</td>\n",
       "      <td>...</td>\n",
       "      <td>...</td>\n",
       "      <td>...</td>\n",
       "      <td>...</td>\n",
       "      <td>...</td>\n",
       "      <td>...</td>\n",
       "      <td>...</td>\n",
       "      <td>...</td>\n",
       "      <td>...</td>\n",
       "      <td>...</td>\n",
       "      <td>...</td>\n",
       "      <td>...</td>\n",
       "    </tr>\n",
       "    <tr>\n",
       "      <th>395</th>\n",
       "      <td>0.569663</td>\n",
       "      <td>0.014629</td>\n",
       "      <td>0.013873</td>\n",
       "      <td>0.002197</td>\n",
       "      <td>5</td>\n",
       "      <td>distance</td>\n",
       "      <td>minkowski</td>\n",
       "      <td>3</td>\n",
       "      <td>distance</td>\n",
       "      <td>{'columntransformer__pipeline-1__knnimputer__n...</td>\n",
       "      <td>...</td>\n",
       "      <td>1.0</td>\n",
       "      <td>1.000000</td>\n",
       "      <td>1.000000</td>\n",
       "      <td>1.0</td>\n",
       "      <td>1.0</td>\n",
       "      <td>1.000000</td>\n",
       "      <td>1.0</td>\n",
       "      <td>1.000000</td>\n",
       "      <td>0.000000</td>\n",
       "      <td>1</td>\n",
       "    </tr>\n",
       "    <tr>\n",
       "      <th>396</th>\n",
       "      <td>0.571592</td>\n",
       "      <td>0.025612</td>\n",
       "      <td>0.017983</td>\n",
       "      <td>0.001159</td>\n",
       "      <td>5</td>\n",
       "      <td>distance</td>\n",
       "      <td>minkowski</td>\n",
       "      <td>4</td>\n",
       "      <td>uniform</td>\n",
       "      <td>{'columntransformer__pipeline-1__knnimputer__n...</td>\n",
       "      <td>...</td>\n",
       "      <td>1.0</td>\n",
       "      <td>1.000000</td>\n",
       "      <td>1.000000</td>\n",
       "      <td>1.0</td>\n",
       "      <td>1.0</td>\n",
       "      <td>1.000000</td>\n",
       "      <td>1.0</td>\n",
       "      <td>1.000000</td>\n",
       "      <td>0.000000</td>\n",
       "      <td>1</td>\n",
       "    </tr>\n",
       "    <tr>\n",
       "      <th>397</th>\n",
       "      <td>0.559826</td>\n",
       "      <td>0.017683</td>\n",
       "      <td>0.015962</td>\n",
       "      <td>0.002247</td>\n",
       "      <td>5</td>\n",
       "      <td>distance</td>\n",
       "      <td>minkowski</td>\n",
       "      <td>4</td>\n",
       "      <td>distance</td>\n",
       "      <td>{'columntransformer__pipeline-1__knnimputer__n...</td>\n",
       "      <td>...</td>\n",
       "      <td>1.0</td>\n",
       "      <td>1.000000</td>\n",
       "      <td>1.000000</td>\n",
       "      <td>1.0</td>\n",
       "      <td>1.0</td>\n",
       "      <td>1.000000</td>\n",
       "      <td>1.0</td>\n",
       "      <td>1.000000</td>\n",
       "      <td>0.000000</td>\n",
       "      <td>1</td>\n",
       "    </tr>\n",
       "    <tr>\n",
       "      <th>398</th>\n",
       "      <td>0.586394</td>\n",
       "      <td>0.025670</td>\n",
       "      <td>0.019337</td>\n",
       "      <td>0.001774</td>\n",
       "      <td>5</td>\n",
       "      <td>distance</td>\n",
       "      <td>minkowski</td>\n",
       "      <td>5</td>\n",
       "      <td>uniform</td>\n",
       "      <td>{'columntransformer__pipeline-1__knnimputer__n...</td>\n",
       "      <td>...</td>\n",
       "      <td>1.0</td>\n",
       "      <td>1.000000</td>\n",
       "      <td>1.000000</td>\n",
       "      <td>1.0</td>\n",
       "      <td>1.0</td>\n",
       "      <td>0.993007</td>\n",
       "      <td>1.0</td>\n",
       "      <td>0.998601</td>\n",
       "      <td>0.002797</td>\n",
       "      <td>211</td>\n",
       "    </tr>\n",
       "    <tr>\n",
       "      <th>399</th>\n",
       "      <td>0.584366</td>\n",
       "      <td>0.021792</td>\n",
       "      <td>0.016783</td>\n",
       "      <td>0.002305</td>\n",
       "      <td>5</td>\n",
       "      <td>distance</td>\n",
       "      <td>minkowski</td>\n",
       "      <td>5</td>\n",
       "      <td>distance</td>\n",
       "      <td>{'columntransformer__pipeline-1__knnimputer__n...</td>\n",
       "      <td>...</td>\n",
       "      <td>1.0</td>\n",
       "      <td>1.000000</td>\n",
       "      <td>1.000000</td>\n",
       "      <td>1.0</td>\n",
       "      <td>1.0</td>\n",
       "      <td>0.993007</td>\n",
       "      <td>1.0</td>\n",
       "      <td>0.999301</td>\n",
       "      <td>0.002098</td>\n",
       "      <td>138</td>\n",
       "    </tr>\n",
       "  </tbody>\n",
       "</table>\n",
       "<p>400 rows × 23 columns</p>\n",
       "</div>"
      ],
      "text/plain": [
       "     mean_fit_time  std_fit_time  mean_score_time  std_score_time  \\\n",
       "0         0.369916      0.118839         0.012735        0.005124   \n",
       "1         0.280697      0.015524         0.008063        0.001089   \n",
       "2         0.319870      0.064053         0.010755        0.002245   \n",
       "3         0.274372      0.011749         0.007384        0.000488   \n",
       "4         0.361255      0.111599         0.012926        0.004489   \n",
       "..             ...           ...              ...             ...   \n",
       "395       0.569663      0.014629         0.013873        0.002197   \n",
       "396       0.571592      0.025612         0.017983        0.001159   \n",
       "397       0.559826      0.017683         0.015962        0.002247   \n",
       "398       0.586394      0.025670         0.019337        0.001774   \n",
       "399       0.584366      0.021792         0.016783        0.002305   \n",
       "\n",
       "    param_columntransformer__pipeline-1__knnimputer__n_neighbors  \\\n",
       "0                                                    1             \n",
       "1                                                    1             \n",
       "2                                                    1             \n",
       "3                                                    1             \n",
       "4                                                    1             \n",
       "..                                                 ...             \n",
       "395                                                  5             \n",
       "396                                                  5             \n",
       "397                                                  5             \n",
       "398                                                  5             \n",
       "399                                                  5             \n",
       "\n",
       "    param_columntransformer__pipeline-1__knnimputer__weights  \\\n",
       "0                                              uniform         \n",
       "1                                              uniform         \n",
       "2                                              uniform         \n",
       "3                                              uniform         \n",
       "4                                              uniform         \n",
       "..                                                 ...         \n",
       "395                                           distance         \n",
       "396                                           distance         \n",
       "397                                           distance         \n",
       "398                                           distance         \n",
       "399                                           distance         \n",
       "\n",
       "    param_kneighborsclassifier__metric  \\\n",
       "0                            euclidean   \n",
       "1                            euclidean   \n",
       "2                            euclidean   \n",
       "3                            euclidean   \n",
       "4                            euclidean   \n",
       "..                                 ...   \n",
       "395                          minkowski   \n",
       "396                          minkowski   \n",
       "397                          minkowski   \n",
       "398                          minkowski   \n",
       "399                          minkowski   \n",
       "\n",
       "    param_kneighborsclassifier__n_neighbors  \\\n",
       "0                                         1   \n",
       "1                                         1   \n",
       "2                                         2   \n",
       "3                                         2   \n",
       "4                                         3   \n",
       "..                                      ...   \n",
       "395                                       3   \n",
       "396                                       4   \n",
       "397                                       4   \n",
       "398                                       5   \n",
       "399                                       5   \n",
       "\n",
       "    param_kneighborsclassifier__weights  \\\n",
       "0                               uniform   \n",
       "1                              distance   \n",
       "2                               uniform   \n",
       "3                              distance   \n",
       "4                               uniform   \n",
       "..                                  ...   \n",
       "395                            distance   \n",
       "396                             uniform   \n",
       "397                            distance   \n",
       "398                             uniform   \n",
       "399                            distance   \n",
       "\n",
       "                                                params  ...  \\\n",
       "0    {'columntransformer__pipeline-1__knnimputer__n...  ...   \n",
       "1    {'columntransformer__pipeline-1__knnimputer__n...  ...   \n",
       "2    {'columntransformer__pipeline-1__knnimputer__n...  ...   \n",
       "3    {'columntransformer__pipeline-1__knnimputer__n...  ...   \n",
       "4    {'columntransformer__pipeline-1__knnimputer__n...  ...   \n",
       "..                                                 ...  ...   \n",
       "395  {'columntransformer__pipeline-1__knnimputer__n...  ...   \n",
       "396  {'columntransformer__pipeline-1__knnimputer__n...  ...   \n",
       "397  {'columntransformer__pipeline-1__knnimputer__n...  ...   \n",
       "398  {'columntransformer__pipeline-1__knnimputer__n...  ...   \n",
       "399  {'columntransformer__pipeline-1__knnimputer__n...  ...   \n",
       "\n",
       "     split3_test_score  split4_test_score  split5_test_score  \\\n",
       "0                  1.0           1.000000           0.993007   \n",
       "1                  1.0           1.000000           0.993007   \n",
       "2                  1.0           0.993007           0.993007   \n",
       "3                  1.0           1.000000           0.993007   \n",
       "4                  1.0           1.000000           1.000000   \n",
       "..                 ...                ...                ...   \n",
       "395                1.0           1.000000           1.000000   \n",
       "396                1.0           1.000000           1.000000   \n",
       "397                1.0           1.000000           1.000000   \n",
       "398                1.0           1.000000           1.000000   \n",
       "399                1.0           1.000000           1.000000   \n",
       "\n",
       "     split6_test_score  split7_test_score  split8_test_score  \\\n",
       "0                  1.0                1.0           1.000000   \n",
       "1                  1.0                1.0           1.000000   \n",
       "2                  1.0                1.0           1.000000   \n",
       "3                  1.0                1.0           1.000000   \n",
       "4                  1.0                1.0           1.000000   \n",
       "..                 ...                ...                ...   \n",
       "395                1.0                1.0           1.000000   \n",
       "396                1.0                1.0           1.000000   \n",
       "397                1.0                1.0           1.000000   \n",
       "398                1.0                1.0           0.993007   \n",
       "399                1.0                1.0           0.993007   \n",
       "\n",
       "     split9_test_score  mean_test_score  std_test_score  rank_test_score  \n",
       "0                  1.0         0.999301        0.002098              138  \n",
       "1                  1.0         0.999301        0.002098              138  \n",
       "2                  1.0         0.998601        0.002797              211  \n",
       "3                  1.0         0.999301        0.002098              138  \n",
       "4                  1.0         1.000000        0.000000                1  \n",
       "..                 ...              ...             ...              ...  \n",
       "395                1.0         1.000000        0.000000                1  \n",
       "396                1.0         1.000000        0.000000                1  \n",
       "397                1.0         1.000000        0.000000                1  \n",
       "398                1.0         0.998601        0.002797              211  \n",
       "399                1.0         0.999301        0.002098              138  \n",
       "\n",
       "[400 rows x 23 columns]"
      ]
     },
     "execution_count": 1757,
     "metadata": {},
     "output_type": "execute_result"
    }
   ],
   "source": [
    "scores = pd.DataFrame(grid.cv_results_)\n",
    "scores"
   ]
  },
  {
   "cell_type": "code",
   "execution_count": 1758,
   "metadata": {
    "pycharm": {
     "name": "#%%\n"
    }
   },
   "outputs": [
    {
     "data": {
      "text/plain": [
       "1.0"
      ]
     },
     "execution_count": 1758,
     "metadata": {},
     "output_type": "execute_result"
    }
   ],
   "source": [
    "grid.score(X_test, y_test)"
   ]
  },
  {
   "cell_type": "code",
   "execution_count": 1759,
   "metadata": {
    "pycharm": {
     "name": "#%%\n"
    }
   },
   "outputs": [
    {
     "data": {
      "image/png": "[encoded data removed]",
      "text/plain": [
       "<Figure size 360x360 with 2 Axes>"
      ]
     },
     "metadata": {
      "needs_background": "light"
     },
     "output_type": "display_data"
    }
   ],
   "source": [
    "plt.figure(figsize=(5, 5))\n",
    "sns.heatmap(confusion_matrix(y_test, grid.best_estimator_.predict(X_test)), annot=True)\n",
    "plt.show()"
   ]
  }
 ],
 "metadata": {
  "interpreter": {
   "hash": "36cf16204b8548560b1c020c4e8fb5b57f0e4c58016f52f2d4be01e192833930"
  },
  "kernelspec": {
   "display_name": "Python 3.9.5 64-bit",
   "language": "python",
   "name": "python3"
  },
  "language_info": {
   "codemirror_mode": {
    "name": "ipython",
    "version": 3
   },
   "file_extension": ".py",
   "mimetype": "text/x-python",
   "name": "python",
   "nbconvert_exporter": "python",
   "pygments_lexer": "ipython3",
   "version": "3.9.5"
  },
  "orig_nbformat": 4
 },
 "nbformat": 4,
 "nbformat_minor": 2
}